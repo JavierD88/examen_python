{
 "cells": [
  {
   "cell_type": "code",
   "execution_count": 1,
   "metadata": {},
   "outputs": [],
   "source": [
    "import matplotlib.pyplot as plt\n",
    "import seaborn as sns\n",
    "import numpy as np\n",
    "import pandas as pd\n",
    "\n",
    "\n",
    "%matplotlib inline"
   ]
  },
  {
   "cell_type": "code",
   "execution_count": 2,
   "metadata": {},
   "outputs": [],
   "source": [
    "df_ = pd.read_csv('../data/datasetFinal_fifa2019.csv')"
   ]
  },
  {
   "cell_type": "code",
   "execution_count": 3,
   "metadata": {},
   "outputs": [],
   "source": [
    "df = df_.drop(['ID',\n",
    " 'Name',\n",
    " 'Nationality',\n",
    " 'Club',\n",
    " 'Preferred Foot'], axis=1)"
   ]
  },
  {
   "cell_type": "code",
   "execution_count": 4,
   "metadata": {},
   "outputs": [],
   "source": [
    "df_log = np.log(df)"
   ]
  },
  {
   "cell_type": "code",
   "execution_count": 5,
   "metadata": {},
   "outputs": [],
   "source": [
    "df_log['avg'] = df_log[[ 'Crossing',\n",
    " 'Finishing',\n",
    " 'HeadingAccuracy',\n",
    " 'ShortPassing',\n",
    " 'Volleys',\n",
    " 'Dribbling',\n",
    " 'Curve',\n",
    " 'FKAccuracy',\n",
    " 'LongPassing',\n",
    " 'BallControl',\n",
    " 'Acceleration',\n",
    " 'SprintSpeed',\n",
    " 'Agility',\n",
    " 'Reactions',\n",
    " 'Balance',\n",
    " 'ShotPower',\n",
    " 'Jumping',\n",
    " 'Stamina',\n",
    " 'Strength',\n",
    " 'LongShots',\n",
    " 'Aggression',\n",
    " 'Interceptions',\n",
    " 'Positioning',\n",
    " 'Vision',\n",
    " 'Penalties',\n",
    " 'Composure',\n",
    " 'Marking',\n",
    " 'StandingTackle',\n",
    " 'SlidingTackle',\n",
    " 'GKDiving',\n",
    " 'GKHandling',\n",
    " 'GKKicking',\n",
    " 'GKPositioning',\n",
    " 'GKReflexes']].mean(axis=1)"
   ]
  },
  {
   "cell_type": "code",
   "execution_count": 6,
   "metadata": {},
   "outputs": [],
   "source": [
    "df_avg = df_log[['Age', 'Overall', 'Potential', 'Wage', 'Special', 'International Reputation', 'Weight', 'avg']]"
   ]
  },
  {
   "cell_type": "code",
   "execution_count": 7,
   "metadata": {},
   "outputs": [
    {
     "data": {
      "text/html": [
       "<div>\n",
       "<style scoped>\n",
       "    .dataframe tbody tr th:only-of-type {\n",
       "        vertical-align: middle;\n",
       "    }\n",
       "\n",
       "    .dataframe tbody tr th {\n",
       "        vertical-align: top;\n",
       "    }\n",
       "\n",
       "    .dataframe thead th {\n",
       "        text-align: right;\n",
       "    }\n",
       "</style>\n",
       "<table border=\"1\" class=\"dataframe\">\n",
       "  <thead>\n",
       "    <tr style=\"text-align: right;\">\n",
       "      <th></th>\n",
       "      <th>Age</th>\n",
       "      <th>Overall</th>\n",
       "      <th>Potential</th>\n",
       "      <th>Wage</th>\n",
       "      <th>Special</th>\n",
       "      <th>International Reputation</th>\n",
       "      <th>Weight</th>\n",
       "      <th>avg</th>\n",
       "    </tr>\n",
       "  </thead>\n",
       "  <tbody>\n",
       "    <tr>\n",
       "      <th>0</th>\n",
       "      <td>3.433987</td>\n",
       "      <td>4.543295</td>\n",
       "      <td>4.543295</td>\n",
       "      <td>20.152336</td>\n",
       "      <td>7.697121</td>\n",
       "      <td>1.609438</td>\n",
       "      <td>5.068904</td>\n",
       "      <td>3.989570</td>\n",
       "    </tr>\n",
       "    <tr>\n",
       "      <th>1</th>\n",
       "      <td>3.496508</td>\n",
       "      <td>4.543295</td>\n",
       "      <td>4.543295</td>\n",
       "      <td>19.819398</td>\n",
       "      <td>7.708860</td>\n",
       "      <td>1.609438</td>\n",
       "      <td>5.209486</td>\n",
       "      <td>4.018711</td>\n",
       "    </tr>\n",
       "    <tr>\n",
       "      <th>2</th>\n",
       "      <td>3.258097</td>\n",
       "      <td>4.521789</td>\n",
       "      <td>4.532599</td>\n",
       "      <td>19.485391</td>\n",
       "      <td>7.669962</td>\n",
       "      <td>1.609438</td>\n",
       "      <td>5.010635</td>\n",
       "      <td>3.990875</td>\n",
       "    </tr>\n",
       "    <tr>\n",
       "      <th>3</th>\n",
       "      <td>3.295837</td>\n",
       "      <td>4.510860</td>\n",
       "      <td>4.521789</td>\n",
       "      <td>19.687628</td>\n",
       "      <td>7.732369</td>\n",
       "      <td>1.386294</td>\n",
       "      <td>5.036953</td>\n",
       "      <td>4.069581</td>\n",
       "    </tr>\n",
       "    <tr>\n",
       "      <th>4</th>\n",
       "      <td>3.295837</td>\n",
       "      <td>4.510860</td>\n",
       "      <td>4.510860</td>\n",
       "      <td>19.644456</td>\n",
       "      <td>7.669495</td>\n",
       "      <td>1.386294</td>\n",
       "      <td>5.093750</td>\n",
       "      <td>3.956479</td>\n",
       "    </tr>\n",
       "    <tr>\n",
       "      <th>...</th>\n",
       "      <td>...</td>\n",
       "      <td>...</td>\n",
       "      <td>...</td>\n",
       "      <td>...</td>\n",
       "      <td>...</td>\n",
       "      <td>...</td>\n",
       "      <td>...</td>\n",
       "      <td>...</td>\n",
       "    </tr>\n",
       "    <tr>\n",
       "      <th>14738</th>\n",
       "      <td>2.944439</td>\n",
       "      <td>3.850148</td>\n",
       "      <td>4.174387</td>\n",
       "      <td>13.815511</td>\n",
       "      <td>7.175490</td>\n",
       "      <td>0.000000</td>\n",
       "      <td>4.897840</td>\n",
       "      <td>3.553852</td>\n",
       "    </tr>\n",
       "    <tr>\n",
       "      <th>14739</th>\n",
       "      <td>2.944439</td>\n",
       "      <td>3.850148</td>\n",
       "      <td>4.143135</td>\n",
       "      <td>13.815511</td>\n",
       "      <td>7.001246</td>\n",
       "      <td>0.000000</td>\n",
       "      <td>5.135798</td>\n",
       "      <td>3.362332</td>\n",
       "    </tr>\n",
       "    <tr>\n",
       "      <th>14740</th>\n",
       "      <td>2.772589</td>\n",
       "      <td>3.850148</td>\n",
       "      <td>4.204693</td>\n",
       "      <td>13.815511</td>\n",
       "      <td>7.080868</td>\n",
       "      <td>0.000000</td>\n",
       "      <td>4.997212</td>\n",
       "      <td>3.393240</td>\n",
       "    </tr>\n",
       "    <tr>\n",
       "      <th>14741</th>\n",
       "      <td>2.833213</td>\n",
       "      <td>3.850148</td>\n",
       "      <td>4.189655</td>\n",
       "      <td>13.815511</td>\n",
       "      <td>7.113142</td>\n",
       "      <td>0.000000</td>\n",
       "      <td>5.036953</td>\n",
       "      <td>3.482159</td>\n",
       "    </tr>\n",
       "    <tr>\n",
       "      <th>14742</th>\n",
       "      <td>2.772589</td>\n",
       "      <td>3.828641</td>\n",
       "      <td>4.189655</td>\n",
       "      <td>13.815511</td>\n",
       "      <td>7.186144</td>\n",
       "      <td>0.000000</td>\n",
       "      <td>5.170484</td>\n",
       "      <td>3.592814</td>\n",
       "    </tr>\n",
       "  </tbody>\n",
       "</table>\n",
       "<p>14743 rows × 8 columns</p>\n",
       "</div>"
      ],
      "text/plain": [
       "            Age   Overall  Potential       Wage   Special  \\\n",
       "0      3.433987  4.543295   4.543295  20.152336  7.697121   \n",
       "1      3.496508  4.543295   4.543295  19.819398  7.708860   \n",
       "2      3.258097  4.521789   4.532599  19.485391  7.669962   \n",
       "3      3.295837  4.510860   4.521789  19.687628  7.732369   \n",
       "4      3.295837  4.510860   4.510860  19.644456  7.669495   \n",
       "...         ...       ...        ...        ...       ...   \n",
       "14738  2.944439  3.850148   4.174387  13.815511  7.175490   \n",
       "14739  2.944439  3.850148   4.143135  13.815511  7.001246   \n",
       "14740  2.772589  3.850148   4.204693  13.815511  7.080868   \n",
       "14741  2.833213  3.850148   4.189655  13.815511  7.113142   \n",
       "14742  2.772589  3.828641   4.189655  13.815511  7.186144   \n",
       "\n",
       "       International Reputation    Weight       avg  \n",
       "0                      1.609438  5.068904  3.989570  \n",
       "1                      1.609438  5.209486  4.018711  \n",
       "2                      1.609438  5.010635  3.990875  \n",
       "3                      1.386294  5.036953  4.069581  \n",
       "4                      1.386294  5.093750  3.956479  \n",
       "...                         ...       ...       ...  \n",
       "14738                  0.000000  4.897840  3.553852  \n",
       "14739                  0.000000  5.135798  3.362332  \n",
       "14740                  0.000000  4.997212  3.393240  \n",
       "14741                  0.000000  5.036953  3.482159  \n",
       "14742                  0.000000  5.170484  3.592814  \n",
       "\n",
       "[14743 rows x 8 columns]"
      ]
     },
     "execution_count": 7,
     "metadata": {},
     "output_type": "execute_result"
    }
   ],
   "source": [
    "df_avg"
   ]
  },
  {
   "cell_type": "code",
   "execution_count": 8,
   "metadata": {},
   "outputs": [],
   "source": [
    "fifa = df_avg.to_numpy()"
   ]
  },
  {
   "cell_type": "code",
   "execution_count": 9,
   "metadata": {},
   "outputs": [
    {
     "name": "stderr",
     "output_type": "stream",
     "text": [
      "/home/javier/miniconda2/envs/entorno/lib/python3.7/site-packages/numba/typed_passes.py:293: NumbaPerformanceWarning: \u001b[1m\n",
      "The keyword argument 'parallel=True' was specified but no transformation for parallel execution was possible.\n",
      "\n",
      "To find out why, try turning on parallel diagnostics, see http://numba.pydata.org/numba-doc/latest/user/parallel.html#diagnostics for help.\n",
      "\u001b[1m\n",
      "File \"../../../miniconda2/envs/entorno/lib/python3.7/site-packages/umap/rp_tree.py\", line 135:\u001b[0m\n",
      "\u001b[1m@numba.njit(fastmath=True, nogil=True, parallel=True)\n",
      "\u001b[1mdef euclidean_random_projection_split(data, indices, rng_state):\n",
      "\u001b[0m\u001b[1m^\u001b[0m\u001b[0m\n",
      "\u001b[0m\n",
      "  state.func_ir.loc))\n",
      "/home/javier/miniconda2/envs/entorno/lib/python3.7/site-packages/umap/nndescent.py:92: NumbaPerformanceWarning: \u001b[1m\u001b[1m\n",
      "The keyword argument 'parallel=True' was specified but no transformation for parallel execution was possible.\n",
      "\n",
      "To find out why, try turning on parallel diagnostics, see http://numba.pydata.org/numba-doc/latest/user/parallel.html#diagnostics for help.\n",
      "\u001b[1m\n",
      "File \"../../../miniconda2/envs/entorno/lib/python3.7/site-packages/umap/utils.py\", line 409:\u001b[0m\n",
      "\u001b[1m@numba.njit(parallel=True)\n",
      "\u001b[1mdef build_candidates(current_graph, n_vertices, n_neighbors, max_candidates, rng_state):\n",
      "\u001b[0m\u001b[1m^\u001b[0m\u001b[0m\n",
      "\u001b[0m\u001b[0m\n",
      "  current_graph, n_vertices, n_neighbors, max_candidates, rng_state\n",
      "/home/javier/miniconda2/envs/entorno/lib/python3.7/site-packages/numba/typed_passes.py:293: NumbaPerformanceWarning: \u001b[1m\n",
      "The keyword argument 'parallel=True' was specified but no transformation for parallel execution was possible.\n",
      "\n",
      "To find out why, try turning on parallel diagnostics, see http://numba.pydata.org/numba-doc/latest/user/parallel.html#diagnostics for help.\n",
      "\u001b[1m\n",
      "File \"../../../miniconda2/envs/entorno/lib/python3.7/site-packages/umap/nndescent.py\", line 47:\u001b[0m\n",
      "\u001b[1m    @numba.njit(parallel=True)\n",
      "\u001b[1m    def nn_descent(\n",
      "\u001b[0m    \u001b[1m^\u001b[0m\u001b[0m\n",
      "\u001b[0m\n",
      "  state.func_ir.loc))\n",
      "/home/javier/miniconda2/envs/entorno/lib/python3.7/site-packages/umap/spectral.py:229: UserWarning: Embedding a total of 6 separate connected components using meta-embedding (experimental)\n",
      "  n_components\n"
     ]
    },
    {
     "data": {
      "text/plain": [
       "UMAP(a=None, angular_rp_forest=False, b=None, init='spectral',\n",
       "     learning_rate=1.0, local_connectivity=1.0, metric='euclidean',\n",
       "     metric_kwds=None, min_dist=0.1, n_components=2, n_epochs=None,\n",
       "     n_neighbors=15, negative_sample_rate=5, random_state=42,\n",
       "     repulsion_strength=1.0, set_op_mix_ratio=1.0, spread=1.0,\n",
       "     target_metric='categorical', target_metric_kwds=None,\n",
       "     target_n_neighbors=-1, target_weight=0.5, transform_queue_size=4.0,\n",
       "     transform_seed=42, verbose=False)"
      ]
     },
     "execution_count": 9,
     "metadata": {},
     "output_type": "execute_result"
    }
   ],
   "source": [
    "import umap\n",
    "\n",
    "reducer = umap.UMAP(random_state=42)\n",
    "reducer.fit(fifa.data)"
   ]
  },
  {
   "cell_type": "code",
   "execution_count": 10,
   "metadata": {},
   "outputs": [
    {
     "data": {
      "text/plain": [
       "array([[18.602158 ,  2.8264203],\n",
       "       [18.598219 ,  2.8318133],\n",
       "       [18.574184 ,  2.838897 ],\n",
       "       ...,\n",
       "       [-3.1445596, -2.0743709],\n",
       "       [-3.1295261, -2.022901 ],\n",
       "       [-3.4606817, -1.6386368]], dtype=float32)"
      ]
     },
     "execution_count": 10,
     "metadata": {},
     "output_type": "execute_result"
    }
   ],
   "source": [
    "embedding = reducer.transform(fifa.data)\n",
    "\n",
    "embedding"
   ]
  },
  {
   "cell_type": "code",
   "execution_count": 11,
   "metadata": {},
   "outputs": [
    {
     "data": {
      "image/png": "[encoded data removed]",
      "text/plain": [
       "<Figure size 432x288 with 2 Axes>"
      ]
     },
     "metadata": {
      "needs_background": "light"
     },
     "output_type": "display_data"
    }
   ],
   "source": [
    "plt.scatter(embedding[:, 0], embedding[:, 1], cmap='Spectral', s=5)\n",
    "plt.gca().set_aspect('equal', 'datalim')\n",
    "plt.colorbar(boundaries=np.arange(11)-0.5).set_ticks(np.arange(10))\n",
    "plt.title('UMAP projection of the Digits dataset', fontsize=24);"
   ]
  },
  {
   "cell_type": "markdown",
   "metadata": {},
   "source": [
    "**kmeans**"
   ]
  },
  {
   "cell_type": "code",
   "execution_count": 12,
   "metadata": {},
   "outputs": [
    {
     "data": {
      "text/plain": [
       "KMeans(algorithm='auto', copy_x=True, init='k-means++', max_iter=300,\n",
       "       n_clusters=10, n_init=10, n_jobs=None, precompute_distances='auto',\n",
       "       random_state=42, tol=0.0001, verbose=0)"
      ]
     },
     "execution_count": 12,
     "metadata": {},
     "output_type": "execute_result"
    }
   ],
   "source": [
    "from sklearn.cluster import KMeans\n",
    "\n",
    "kmeans = KMeans(n_clusters=10, random_state=42).fit(fifa.data)\n",
    "\n",
    "kmeans"
   ]
  },
  {
   "cell_type": "code",
   "execution_count": 13,
   "metadata": {},
   "outputs": [
    {
     "data": {
      "text/plain": [
       "array([6, 6, 6, ..., 0, 0, 0], dtype=int32)"
      ]
     },
     "execution_count": 13,
     "metadata": {},
     "output_type": "execute_result"
    }
   ],
   "source": [
    "kmeans.predict(fifa.data)"
   ]
  },
  {
   "cell_type": "code",
   "execution_count": 14,
   "metadata": {},
   "outputs": [
    {
     "data": {
      "text/plain": [
       "array([ 2.97880683e+00,  4.05178816e+00,  4.24321501e+00,  1.38155106e+01,\n",
       "        7.27277063e+00, -1.16573418e-15,  5.06760396e+00,  3.62325576e+00])"
      ]
     },
     "execution_count": 14,
     "metadata": {},
     "output_type": "execute_result"
    }
   ],
   "source": [
    "kmeans.cluster_centers_[0]"
   ]
  },
  {
   "cell_type": "code",
   "execution_count": 15,
   "metadata": {},
   "outputs": [
    {
     "data": {
      "text/plain": [
       "KMeans(algorithm='auto', copy_x=True, init='k-means++', max_iter=300,\n",
       "       n_clusters=5, n_init=10, n_jobs=None, precompute_distances='auto',\n",
       "       random_state=42, tol=0.0001, verbose=0)"
      ]
     },
     "execution_count": 15,
     "metadata": {},
     "output_type": "execute_result"
    }
   ],
   "source": [
    "kmeans = KMeans(n_clusters=5, random_state=42).fit(embedding)\n",
    "\n",
    "kmeans"
   ]
  },
  {
   "cell_type": "code",
   "execution_count": 16,
   "metadata": {},
   "outputs": [
    {
     "data": {
      "image/png": "[encoded data removed]",
      "text/plain": [
       "<Figure size 432x288 with 1 Axes>"
      ]
     },
     "metadata": {
      "needs_background": "light"
     },
     "output_type": "display_data"
    }
   ],
   "source": [
    "plt.scatter(embedding[:, 0], embedding[:, 1], s=5)\n",
    "plt.gca().set_aspect('equal', 'datalim')"
   ]
  },
  {
   "cell_type": "code",
   "execution_count": 17,
   "metadata": {},
   "outputs": [
    {
     "data": {
      "image/png": "[encoded data removed]",
      "text/plain": [
       "<Figure size 432x288 with 2 Axes>"
      ]
     },
     "metadata": {
      "needs_background": "light"
     },
     "output_type": "display_data"
    }
   ],
   "source": [
    "plt.scatter(embedding[:, 0], embedding[:, 1], c=kmeans.labels_, cmap='Spectral', s=5)\n",
    "plt.gca().set_aspect('equal', 'datalim')\n",
    "plt.colorbar(boundaries=np.arange(kmeans.n_clusters+1)-0.5).set_ticks(np.arange(kmeans.n_clusters))\n",
    "plt.title('K-Means over the Digits dataset', fontsize=20);"
   ]
  },
  {
   "cell_type": "markdown",
   "metadata": {},
   "source": [
    "## **DBSCAN**"
   ]
  },
  {
   "cell_type": "code",
   "execution_count": 27,
   "metadata": {},
   "outputs": [
    {
     "data": {
      "text/plain": [
       "DBSCAN(algorithm='auto', eps=0.5, leaf_size=30, metric='euclidean',\n",
       "       metric_params=None, min_samples=5, n_jobs=None, p=None)"
      ]
     },
     "execution_count": 27,
     "metadata": {},
     "output_type": "execute_result"
    }
   ],
   "source": [
    "import sklearn\n",
    "from sklearn.cluster import DBSCAN\n",
    "\n",
    "clustering = DBSCAN().fit(embedding)\n",
    "\n",
    "clustering"
   ]
  },
  {
   "cell_type": "code",
   "execution_count": 28,
   "metadata": {},
   "outputs": [
    {
     "data": {
      "text/plain": [
       "array([0, 0, 0, ..., 4, 4, 4])"
      ]
     },
     "execution_count": 28,
     "metadata": {},
     "output_type": "execute_result"
    }
   ],
   "source": [
    "clustering.labels_"
   ]
  },
  {
   "cell_type": "code",
   "execution_count": null,
   "metadata": {},
   "outputs": [],
   "source": []
  },
  {
   "cell_type": "code",
   "execution_count": 29,
   "metadata": {},
   "outputs": [
    {
     "data": {
      "image/png": "[encoded data removed]",
      "text/plain": [
       "<Figure size 432x288 with 2 Axes>"
      ]
     },
     "metadata": {
      "needs_background": "light"
     },
     "output_type": "display_data"
    }
   ],
   "source": [
    "plt.scatter(embedding[:, 0], embedding[:, 1], c=clustering.labels_, cmap='Spectral', s=5)\n",
    "plt.gca().set_aspect('equal', 'datalim')\n",
    "plt.colorbar(boundaries=np.arange(len(np.unique(clustering.labels_))+1)-0.5).set_ticks(np.arange(len(np.unique(clustering.labels_))))\n",
    "plt.title('DBSCAN over the Digits dataset', fontsize=24);"
   ]
  },
  {
   "cell_type": "markdown",
   "metadata": {},
   "source": [
    "**HDBSCAN**"
   ]
  },
  {
   "cell_type": "code",
   "execution_count": 30,
   "metadata": {},
   "outputs": [
    {
     "data": {
      "text/plain": [
       "HDBSCAN(algorithm='best', allow_single_cluster=False, alpha=1.0,\n",
       "        approx_min_span_tree=True, cluster_selection_epsilon=0.0,\n",
       "        cluster_selection_method='eom', core_dist_n_jobs=4,\n",
       "        gen_min_span_tree=False, leaf_size=40,\n",
       "        match_reference_implementation=False, memory=Memory(location=None),\n",
       "        metric='euclidean', min_cluster_size=5, min_samples=None, p=None,\n",
       "        prediction_data=False)"
      ]
     },
     "execution_count": 30,
     "metadata": {},
     "output_type": "execute_result"
    }
   ],
   "source": [
    "import hdbscan\n",
    "\n",
    "clusterer = hdbscan.HDBSCAN()\n",
    "\n",
    "clusterer.fit(embedding)\n",
    "\n",
    "clusterer"
   ]
  },
  {
   "cell_type": "code",
   "execution_count": 31,
   "metadata": {},
   "outputs": [
    {
     "data": {
      "image/png": "[encoded data removed]",
      "text/plain": [
       "<Figure size 432x288 with 2 Axes>"
      ]
     },
     "metadata": {
      "needs_background": "light"
     },
     "output_type": "display_data"
    }
   ],
   "source": [
    "plt.scatter(embedding[:, 0], embedding[:, 1], c=clusterer.labels_, cmap='Spectral', s=5)\n",
    "plt.gca().set_aspect('equal', 'datalim')\n",
    "plt.colorbar(boundaries=np.arange(len(np.unique(clusterer.labels_)))+0.5).set_ticks(np.arange(len(np.unique(clusterer.labels_))))\n",
    "plt.title('HDBSCAN over the Digits dataset', fontsize=24);"
   ]
  },
  {
   "cell_type": "code",
   "execution_count": 32,
   "metadata": {},
   "outputs": [],
   "source": [
    "df_['cluster'] = clustering.labels_"
   ]
  },
  {
   "cell_type": "code",
   "execution_count": 33,
   "metadata": {},
   "outputs": [
    {
     "data": {
      "text/plain": [
       "0.6625944"
      ]
     },
     "execution_count": 33,
     "metadata": {},
     "output_type": "execute_result"
    }
   ],
   "source": [
    "sklearn.metrics.silhouette_score(embedding, clustering.labels_, metric='euclidean', sample_size=None, random_state=None)"
   ]
  },
  {
   "cell_type": "code",
   "execution_count": 25,
   "metadata": {},
   "outputs": [],
   "source": [
    "df_.to_csv('clústers_fifa2019.csv')"
   ]
  },
  {
   "cell_type": "code",
   "execution_count": null,
   "metadata": {},
   "outputs": [],
   "source": []
  },
  {
   "cell_type": "code",
   "execution_count": null,
   "metadata": {},
   "outputs": [],
   "source": []
  }
 ],
 "metadata": {
  "kernelspec": {
   "display_name": "Python 3",
   "language": "python",
   "name": "python3"
  },
  "language_info": {
   "codemirror_mode": {
    "name": "ipython",
    "version": 3
   },
   "file_extension": ".py",
   "mimetype": "text/x-python",
   "name": "python",
   "nbconvert_exporter": "python",
   "pygments_lexer": "ipython3",
   "version": "3.7.4"
  }
 },
 "nbformat": 4,
 "nbformat_minor": 2
}
